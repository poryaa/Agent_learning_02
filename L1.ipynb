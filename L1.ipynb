{
 "cells": [
  {
   "cell_type": "markdown",
   "id": "89b7a7e5",
   "metadata": {},
   "source": [
    "# L1: Automated Project: Planning, Estimation, and Allocation\n"
   ]
  },
  {
   "cell_type": "markdown",
   "id": "950d9b1f",
   "metadata": {},
   "source": []
  }
 ],
 "metadata": {
  "language_info": {
   "name": "python"
  }
 },
 "nbformat": 4,
 "nbformat_minor": 5
}
